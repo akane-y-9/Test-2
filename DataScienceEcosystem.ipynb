{
 "cells": [
  {
   "cell_type": "markdown",
   "id": "c86b62dc-43f2-4b9f-8a3d-226c7cc7bf2c",
   "metadata": {},
   "source": [
    "# Data Science Tools and Ecosystem"
   ]
  },
  {
   "cell_type": "markdown",
   "id": "6f655dec-83ea-4a10-af9a-3a602b68ae98",
   "metadata": {},
   "source": [
    "## In this notebook, Data Science Tools and Ecosystem are summarized."
   ]
  },
  {
   "cell_type": "markdown",
   "id": "8c55ac9a-5e43-45c6-880e-fa5a63130b43",
   "metadata": {},
   "source": [
    "***Objectives:***"
   ]
  },
  {
   "cell_type": "markdown",
   "id": "67b21f4b-1dc0-45b8-87c6-e25677d7d5b7",
   "metadata": {},
   "source": [
    " - The list of popular languages that Data Scientists use\n",
    " - The list of commonly used libraries used by Data Scientists\n",
    " - The list of Data Science Tools\n",
    " - Examples of evaluating arithmetic expressions in Python"
   ]
  },
  {
   "cell_type": "markdown",
   "id": "15fedb57-537a-4c44-a3c5-3a0f539d7f83",
   "metadata": {
    "tags": []
   },
   "source": [
    "Some of the popular languages that Data Scientists use are:\n",
    "1. Python\n",
    "2. R\n",
    "3. JavaScript"
   ]
  },
  {
   "cell_type": "markdown",
   "id": "e615fed9-2e46-4454-85d1-ab618935b6e5",
   "metadata": {},
   "source": [
    "Some of the commonly used libraries used by Data Scientists include:\n",
    "1. TensorFlow\n",
    "2. Pandas\n",
    "3. NumPy"
   ]
  },
  {
   "cell_type": "markdown",
   "id": "f1033947-b43a-48ee-9e04-0833dace9ed9",
   "metadata": {
    "tags": []
   },
   "source": [
    "| Data Science Tools |\n",
    "| ---------------- |\n",
    "| MySQL |\n",
    "| Jupyter |\n",
    "| Airflow |"
   ]
  },
  {
   "cell_type": "markdown",
   "id": "b8aa51f5-6074-45bb-9660-368537f3a6d9",
   "metadata": {},
   "source": [
    "### Below are a few examples of evaluating arithmetic expressions in Python\n",
    "+, -, /, *"
   ]
  },
  {
   "cell_type": "code",
   "execution_count": 7,
   "id": "77eca0ca-a64c-49d6-a877-c7dfd1333ebf",
   "metadata": {
    "tags": []
   },
   "outputs": [
    {
     "data": {
      "text/plain": [
       "17"
      ]
     },
     "execution_count": 7,
     "metadata": {},
     "output_type": "execute_result"
    }
   ],
   "source": [
    "# This a simple arithmetic expression to mutiply then add integers\n",
    "(3*4)+5"
   ]
  },
  {
   "cell_type": "code",
   "execution_count": 8,
   "id": "b6d0de97-f3e5-4d27-9f5e-d2915add4a5d",
   "metadata": {
    "tags": []
   },
   "outputs": [
    {
     "data": {
      "text/plain": [
       "3.3333333333333335"
      ]
     },
     "execution_count": 8,
     "metadata": {},
     "output_type": "execute_result"
    }
   ],
   "source": [
    "# This will convert 200 minutes to hours by diving by 60\n",
    "200/60"
   ]
  },
  {
   "cell_type": "markdown",
   "id": "64f41e8a-c489-4100-8e9f-d3433aff7323",
   "metadata": {
    "tags": []
   },
   "source": [
    "## Author"
   ]
  },
  {
   "cell_type": "markdown",
   "id": "7ce9bd29-2680-4ccb-8020-8ffa9e53cbf6",
   "metadata": {},
   "source": [
    "Akane Yoneda"
   ]
  },
  {
   "cell_type": "code",
   "execution_count": null,
   "id": "bd63f93e-68f2-41a8-87ed-2045366a6b48",
   "metadata": {},
   "outputs": [],
   "source": []
  }
 ],
 "metadata": {
  "kernelspec": {
   "display_name": "Python",
   "language": "python",
   "name": "conda-env-python-py"
  },
  "language_info": {
   "codemirror_mode": {
    "name": "ipython",
    "version": 3
   },
   "file_extension": ".py",
   "mimetype": "text/x-python",
   "name": "python",
   "nbconvert_exporter": "python",
   "pygments_lexer": "ipython3",
   "version": "3.7.12"
  },
  "toc-autonumbering": false,
  "toc-showcode": false,
  "toc-showmarkdowntxt": false,
  "toc-showtags": false
 },
 "nbformat": 4,
 "nbformat_minor": 5
}
